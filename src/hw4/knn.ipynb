{
 "cells": [
  {
   "cell_type": "code",
   "execution_count": 2,
   "metadata": {},
   "outputs": [
    {
     "name": "stdout",
     "output_type": "stream",
     "text": [
      "c:\\Users\\v0166\\Github\\Introduction_to_AI_Homework\\src\\hw4\n"
     ]
    }
   ],
   "source": [
    "import os\n",
    "print(os.getcwd())"
   ]
  },
  {
   "cell_type": "code",
   "execution_count": 8,
   "metadata": {},
   "outputs": [
    {
     "name": "stdout",
     "output_type": "stream",
     "text": [
      "Train Data Sample: [['Male', 'No', 'Yes', 'Yes', '27', 'Yes', 'Yes', 'Fiber optic', 'No', 'Yes', 'No', 'Yes', 'No', 'No', 'Month-to-month', 'Yes', 'Credit card (automatic)', '85.2', '2151.6'], ['Female', 'No', 'No', 'No', '5', 'Yes', 'Yes', 'Fiber optic', 'No', 'Yes', 'No', 'No', 'Yes', 'No', 'Month-to-month', 'Yes', 'Electronic check', '90.8', '455.5']]\n",
      "Train Ground Truth Sample: [['No'], ['Yes']]\n",
      "Validation Data Sample: [['Female', 'Yes', 'No', 'No', '26', 'Yes', 'Yes', 'Fiber optic', 'Yes', 'Yes', 'No', 'No', 'No', 'Yes', 'Month-to-month', 'Yes', 'Electronic check', '95.0', '2497.2'], ['Male', 'No', 'No', 'No', '42', 'Yes', 'No', 'No', 'No internet service', 'No internet service', 'No internet service', 'No internet service', 'No internet service', 'No internet service', 'One year', 'No', 'Bank transfer (automatic)', '19.8', '849.9']]\n",
      "Validation Ground Truth Sample: [['Yes'], ['No']]\n",
      "Test Data Sample: [['Male', 'Yes', 'No', 'No', '10', 'Yes', 'No', 'Fiber optic', 'No', 'No', 'No', 'No', 'No', 'Yes', 'Month-to-month', 'Yes', 'Electronic check', '79.25', '793.55'], ['Female', 'No', 'No', 'No', '41', 'Yes', 'No', 'No', 'No internet service', 'No internet service', 'No internet service', 'No internet service', 'No internet service', 'No internet service', 'Two year', 'Yes', 'Mailed check', '19.85', '810.45']]\n"
     ]
    }
   ],
   "source": [
    "import csv\n",
    "\n",
    "# 讀取 CSV 檔案的函式\n",
    "def load_csv(filename):\n",
    "    data = []\n",
    "    with open(filename, mode='r', encoding='utf-8-sig') as file:\n",
    "        csv_reader = csv.reader(file)\n",
    "        header = next(csv_reader)\n",
    "        for row in csv_reader:\n",
    "            data.append(row)\n",
    "    return header, data\n",
    "\n",
    "# 測試讀取 train.csv, val.csv 和 test.csv\n",
    "train_header, train_data = load_csv('../../res/hw4/train.csv')\n",
    "train_gt_header, train_gt_data = load_csv('../../res/hw4/train_gt.csv')\n",
    "val_header, val_data = load_csv('../../res/hw4/val.csv')\n",
    "val_gt_header, val_gt_data = load_csv('../../res/hw4/val_gt.csv')\n",
    "test_header, test_data = load_csv('../../res/hw4/test.csv')\n",
    "\n",
    "# 簡單檢視讀取結果\n",
    "print(\"Train Data Sample:\", train_data[:2])  # 取前兩筆資料查看\n",
    "print(\"Train Ground Truth Sample:\", train_gt_data[:2])\n",
    "print(\"Validation Data Sample:\", val_data[:2])\n",
    "print(\"Validation Ground Truth Sample:\", val_gt_data[:2])\n",
    "print(\"Test Data Sample:\", test_data[:2])"
   ]
  },
  {
   "cell_type": "code",
   "execution_count": 9,
   "metadata": {},
   "outputs": [
    {
     "name": "stdout",
     "output_type": "stream",
     "text": [
      "Processed Train Data Sample: [[0.0000e+00 0.0000e+00 1.0000e+00 1.0000e+00 2.7000e+01 1.0000e+00\n",
      "  1.0000e+00 1.0000e+00 0.0000e+00 0.0000e+00 1.0000e+00 0.0000e+00\n",
      "  1.0000e+00 0.0000e+00 0.0000e+00 0.0000e+00 0.0000e+00 1.0000e+00\n",
      "  0.0000e+00 0.0000e+00 1.0000e+00 8.5200e+01 2.1516e+03]\n",
      " [1.0000e+00 0.0000e+00 0.0000e+00 0.0000e+00 5.0000e+00 1.0000e+00\n",
      "  1.0000e+00 1.0000e+00 0.0000e+00 0.0000e+00 1.0000e+00 0.0000e+00\n",
      "  0.0000e+00 1.0000e+00 0.0000e+00 0.0000e+00 0.0000e+00 1.0000e+00\n",
      "  1.0000e+00 0.0000e+00 0.0000e+00 9.0800e+01 4.5550e+02]]\n"
     ]
    }
   ],
   "source": [
    "import numpy as np\n",
    "\n",
    "# 資料清理與轉換函式\n",
    "def preprocess_data(data):\n",
    "    processed_data = []\n",
    "    for row in data:\n",
    "        # 轉換性別為數值型 (Male: 0, Female: 1)\n",
    "        gender = 0 if row[0] == \"Male\" else 1\n",
    "        \n",
    "        # 轉換是否為老年人 (SeniorCitizen: 0, 1)\n",
    "        senior_citizen = 1 if row[1] == \"Yes\" else 0\n",
    "        \n",
    "        # 轉換是否有配偶 (Partner: Yes -> 1, No -> 0)\n",
    "        partner = 1 if row[2] == \"Yes\" else 0\n",
    "        \n",
    "        # 轉換是否有供養對象 (Dependents: Yes -> 1, No -> 0)\n",
    "        dependents = 1 if row[3] == \"Yes\" else 0\n",
    "        \n",
    "        # 服務年限 (tenure): 保持原數值\n",
    "        tenure = int(row[4])\n",
    "        \n",
    "        # 轉換電話服務 (PhoneService: Yes -> 1, No -> 0)\n",
    "        phone_service = 1 if row[5] == \"Yes\" else 0\n",
    "        \n",
    "        # 轉換多條電話線 (MultipleLines: Yes -> 1, No -> 0, No phone service -> 0)\n",
    "        multiple_lines = 1 if row[6] == \"Yes\" else 0\n",
    "        \n",
    "        # 進行 One-hot Encoding: InternetService (Fiber optic, DSL, No)\n",
    "        internet_service = [0, 0]  # Fiber optic, DSL\n",
    "        if row[7] == \"Fiber optic\":\n",
    "            internet_service[0] = 1\n",
    "        elif row[7] == \"DSL\":\n",
    "            internet_service[1] = 1\n",
    "        \n",
    "        # 轉換 OnlineSecurity, OnlineBackup, DeviceProtection, TechSupport, StreamingTV, StreamingMovies\n",
    "        # 將 \"No internet service\" 視為 0\n",
    "        online_security = 1 if row[8] == \"Yes\" else 0\n",
    "        online_backup = 1 if row[9] == \"Yes\" else 0\n",
    "        device_protection = 1 if row[10] == \"Yes\" else 0\n",
    "        tech_support = 1 if row[11] == \"Yes\" else 0\n",
    "        streaming_tv = 1 if row[12] == \"Yes\" else 0\n",
    "        streaming_movies = 1 if row[13] == \"Yes\" else 0\n",
    "        \n",
    "        # 進行 One-hot Encoding: Contract (One year, Two year, Month-to-month)\n",
    "        contract = [0, 0]  # One year, Two year\n",
    "        if row[14] == \"One year\":\n",
    "            contract[0] = 1\n",
    "        elif row[14] == \"Two year\":\n",
    "            contract[1] = 1\n",
    "        \n",
    "        # 轉換 PaperlessBilling (Yes -> 1, No -> 0)\n",
    "        paperless_billing = 1 if row[15] == \"Yes\" else 0\n",
    "        \n",
    "        # 進行 One-hot Encoding: PaymentMethod\n",
    "        payment_method = [0, 0, 0]  # Electronic check, Bank transfer, Credit card\n",
    "        if row[16] == \"Electronic check\":\n",
    "            payment_method[0] = 1\n",
    "        elif row[16] == \"Bank transfer (automatic)\":\n",
    "            payment_method[1] = 1\n",
    "        elif row[16] == \"Credit card (automatic)\":\n",
    "            payment_method[2] = 1\n",
    "        \n",
    "        # 處理數值特徵: MonthlyCharges, TotalCharges\n",
    "        monthly_charges = float(row[17])\n",
    "        total_charges = float(row[18]) if row[18] != \"\" else 0.0  # 處理空值\n",
    "        \n",
    "        # 組合所有特徵\n",
    "        processed_data.append([\n",
    "            gender, senior_citizen, partner, dependents, tenure,\n",
    "            phone_service, multiple_lines, *internet_service,\n",
    "            online_security, online_backup, device_protection,\n",
    "            tech_support, streaming_tv, streaming_movies, \n",
    "            *contract, paperless_billing, *payment_method,\n",
    "            monthly_charges, total_charges\n",
    "        ])\n",
    "    \n",
    "    return np.array(processed_data)\n",
    "\n",
    "# 進行前處理\n",
    "processed_train_data = preprocess_data(train_data)\n",
    "processed_val_data = preprocess_data(val_data)\n",
    "processed_test_data = preprocess_data(test_data)\n",
    "\n",
    "# 顯示前處理後的資料前兩筆\n",
    "print(\"Processed Train Data Sample:\", processed_train_data[:2])\n"
   ]
  },
  {
   "cell_type": "code",
   "execution_count": 10,
   "metadata": {},
   "outputs": [
    {
     "name": "stdout",
     "output_type": "stream",
     "text": [
      "Validation Accuracy: 0.6845\n",
      "Validation Predictions Sample: ['Yes', 'No', 'No', 'Yes', 'No', 'Yes', 'Yes', 'Yes', 'Yes', 'Yes']\n"
     ]
    }
   ],
   "source": [
    "import numpy as np\n",
    "from collections import Counter\n",
    "\n",
    "# 距離計算函式 - 使用歐幾里得距離\n",
    "def calculate_distance(sample1, sample2):\n",
    "    return np.sqrt(np.sum((sample1 - sample2) ** 2))\n",
    "\n",
    "# KNN 演算法函式\n",
    "def knn_predict(train_data, train_labels, test_data, k=5):\n",
    "    predictions = []\n",
    "    for test_point in test_data:\n",
    "        distances = []\n",
    "        \n",
    "        # 計算每一個訓練樣本與測試樣本之間的距離\n",
    "        for i, train_point in enumerate(train_data):\n",
    "            distance = calculate_distance(test_point, train_point)\n",
    "            distances.append((distance, train_labels[i]))  # (距離, 標籤)\n",
    "        \n",
    "        # 根據距離排序，取前 K 個最近的樣本\n",
    "        distances.sort(key=lambda x: x[0])\n",
    "        k_nearest_neighbors = distances[:k]\n",
    "        \n",
    "        # 取得 K 個鄰居的標籤進行投票\n",
    "        k_nearest_labels = [label for _, label in k_nearest_neighbors]\n",
    "        most_common_label = Counter(k_nearest_labels).most_common(1)[0][0]\n",
    "        \n",
    "        # 儲存預測結果\n",
    "        predictions.append(most_common_label)\n",
    "    \n",
    "    return predictions\n",
    "\n",
    "# 評估模型準確率\n",
    "def evaluate_accuracy(predictions, ground_truth):\n",
    "    correct = sum([1 for pred, actual in zip(predictions, ground_truth) if pred == actual[0]])  # 修正這裡\n",
    "    accuracy = correct / len(ground_truth)\n",
    "    return accuracy\n",
    "\n",
    "# 使用 KNN 進行驗證集預測\n",
    "k = 3  # 可以嘗試調整 K 值\n",
    "val_predictions = knn_predict(processed_train_data, [label[0] for label in train_gt_data], processed_val_data, k)\n",
    "\n",
    "# 計算驗證集的準確率\n",
    "accuracy = evaluate_accuracy(val_predictions, val_gt_data)\n",
    "print(f\"Validation Accuracy: {accuracy:.4f}\")\n",
    "\n",
    "# 預測結果檢視（前 10 筆）\n",
    "print(\"Validation Predictions Sample:\", val_predictions[:10])\n"
   ]
  }
 ],
 "metadata": {
  "kernelspec": {
   "display_name": "base",
   "language": "python",
   "name": "python3"
  },
  "language_info": {
   "codemirror_mode": {
    "name": "ipython",
    "version": 3
   },
   "file_extension": ".py",
   "mimetype": "text/x-python",
   "name": "python",
   "nbconvert_exporter": "python",
   "pygments_lexer": "ipython3",
   "version": "3.12.7"
  }
 },
 "nbformat": 4,
 "nbformat_minor": 2
}
